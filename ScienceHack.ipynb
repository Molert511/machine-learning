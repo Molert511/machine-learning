{
 "cells": [
  {
   "cell_type": "markdown",
   "id": "db92c11b",
   "metadata": {},
   "source": [
    "# Загрузка библиотек"
   ]
  },
  {
   "cell_type": "code",
   "execution_count": 724,
   "id": "dd410d0f",
   "metadata": {},
   "outputs": [
    {
     "name": "stdout",
     "output_type": "stream",
     "text": [
      "^C\n"
     ]
    }
   ],
   "source": [
    "!pip install eli5"
   ]
  },
  {
   "cell_type": "code",
   "execution_count": 725,
   "id": "44b5fd39",
   "metadata": {},
   "outputs": [
    {
     "name": "stdout",
     "output_type": "stream",
     "text": [
      "^C\n"
     ]
    }
   ],
   "source": [
    "!pip install xgboost"
   ]
  },
  {
   "cell_type": "code",
   "execution_count": 726,
   "id": "17cc8c95",
   "metadata": {},
   "outputs": [
    {
     "name": "stdout",
     "output_type": "stream",
     "text": [
      "^C\n"
     ]
    }
   ],
   "source": [
    "!pip install pandas_profiling"
   ]
  },
  {
   "cell_type": "code",
   "execution_count": 727,
   "id": "6132219d",
   "metadata": {},
   "outputs": [
    {
     "name": "stdout",
     "output_type": "stream",
     "text": [
      "^C\n"
     ]
    }
   ],
   "source": [
    "!pip install holoviews"
   ]
  },
  {
   "cell_type": "code",
   "execution_count": 494,
   "id": "09041b5a",
   "metadata": {},
   "outputs": [],
   "source": [
    "import numpy as np\n",
    "import pandas as pd\n",
    "import matplotlib.pyplot as plt\n",
    "from sklearn.model_selection import train_test_split\n",
    "from sklearn.linear_model import LogisticRegression\n",
    "from sklearn.metrics import accuracy_score, f1_score\n",
    "from sklearn.ensemble import RandomForestClassifier\n",
    "from sklearn.neighbors import KNeighborsClassifier\n",
    "from sklearn.manifold import TSNE\n",
    "from sklearn.naive_bayes import MultinomialNB\n",
    "import xgboost as xgb\n",
    "from sklearn.model_selection import cross_val_score\n",
    "from sklearn.tree import DecisionTreeClassifier\n",
    "\n",
    "import pandas_profiling\n",
    "from pandas import Series\n",
    "import pandas.core.algorithms as algos\n",
    "import numpy as np\n",
    "# import holoviews as hv\n",
    "\n",
    "import seaborn as sns\n",
    "sns.set(font_scale=1.5, style='whitegrid')\n",
    "\n",
    "import plotly.express as px\n",
    "\n",
    "import matplotlib.pyplot as plt\n",
    "# hv.extension('matplotlib')\n",
    "%matplotlib inline\n",
    "\n",
    "import scipy.stats.stats as stats\n",
    "import re\n",
    "import traceback\n",
    "import string"
   ]
  },
  {
   "cell_type": "markdown",
   "id": "fe7f4aec",
   "metadata": {},
   "source": [
    "# Загрузка и проверка данных"
   ]
  },
  {
   "cell_type": "code",
   "execution_count": 495,
   "id": "b82b6541",
   "metadata": {},
   "outputs": [],
   "source": [
    "for_model = pd.read_excel(r\"data\\sciencehack-for-beginners\\For_model_labled.xlsx\")\n",
    "target = pd.read_excel(r\"data\\sciencehack-for-beginners\\For_check_unlabled.xlsx\")"
   ]
  },
  {
   "cell_type": "code",
   "execution_count": 496,
   "id": "8d6161e3",
   "metadata": {},
   "outputs": [
    {
     "data": {
      "text/html": [
       "<div>\n",
       "<style scoped>\n",
       "    .dataframe tbody tr th:only-of-type {\n",
       "        vertical-align: middle;\n",
       "    }\n",
       "\n",
       "    .dataframe tbody tr th {\n",
       "        vertical-align: top;\n",
       "    }\n",
       "\n",
       "    .dataframe thead th {\n",
       "        text-align: right;\n",
       "    }\n",
       "</style>\n",
       "<table border=\"1\" class=\"dataframe\">\n",
       "  <thead>\n",
       "    <tr style=\"text-align: right;\">\n",
       "      <th></th>\n",
       "      <th>Run</th>\n",
       "      <th>Event</th>\n",
       "      <th>E1</th>\n",
       "      <th>px1</th>\n",
       "      <th>py1</th>\n",
       "      <th>pz1</th>\n",
       "      <th>pt1</th>\n",
       "      <th>eta1</th>\n",
       "      <th>phi1</th>\n",
       "      <th>Q1</th>\n",
       "      <th>E2</th>\n",
       "      <th>px2</th>\n",
       "      <th>py2</th>\n",
       "      <th>pz2</th>\n",
       "      <th>pt2</th>\n",
       "      <th>eta2</th>\n",
       "      <th>phi2</th>\n",
       "      <th>M</th>\n",
       "      <th>Q2</th>\n",
       "    </tr>\n",
       "  </thead>\n",
       "  <tbody>\n",
       "    <tr>\n",
       "      <th>0</th>\n",
       "      <td>148029</td>\n",
       "      <td>410503113</td>\n",
       "      <td>24.08500</td>\n",
       "      <td>-4.591070</td>\n",
       "      <td>20.110600</td>\n",
       "      <td>12.43260</td>\n",
       "      <td>20.62800</td>\n",
       "      <td>0.571144</td>\n",
       "      <td>1.795240</td>\n",
       "      <td>-1</td>\n",
       "      <td>2.57188</td>\n",
       "      <td>-2.15672</td>\n",
       "      <td>-1.30836</td>\n",
       "      <td>0.501343</td>\n",
       "      <td>2.52255</td>\n",
       "      <td>0.197459</td>\n",
       "      <td>-2.59630</td>\n",
       "      <td>12.0101</td>\n",
       "      <td>1</td>\n",
       "    </tr>\n",
       "    <tr>\n",
       "      <th>1</th>\n",
       "      <td>148031</td>\n",
       "      <td>147290061</td>\n",
       "      <td>22.94630</td>\n",
       "      <td>-4.677580</td>\n",
       "      <td>5.187980</td>\n",
       "      <td>-21.85720</td>\n",
       "      <td>6.98534</td>\n",
       "      <td>-1.858470</td>\n",
       "      <td>2.304500</td>\n",
       "      <td>1</td>\n",
       "      <td>67.16120</td>\n",
       "      <td>-8.24769</td>\n",
       "      <td>11.37090</td>\n",
       "      <td>-65.675800</td>\n",
       "      <td>14.04710</td>\n",
       "      <td>-2.246710</td>\n",
       "      <td>2.19832</td>\n",
       "      <td>4.0102</td>\n",
       "      <td>1</td>\n",
       "    </tr>\n",
       "    <tr>\n",
       "      <th>2</th>\n",
       "      <td>148029</td>\n",
       "      <td>86810610</td>\n",
       "      <td>2.39342</td>\n",
       "      <td>0.346488</td>\n",
       "      <td>-1.935140</td>\n",
       "      <td>1.36514</td>\n",
       "      <td>1.96592</td>\n",
       "      <td>0.648077</td>\n",
       "      <td>-1.393620</td>\n",
       "      <td>1</td>\n",
       "      <td>33.86190</td>\n",
       "      <td>-30.87370</td>\n",
       "      <td>-8.12102</td>\n",
       "      <td>11.291100</td>\n",
       "      <td>31.92390</td>\n",
       "      <td>0.346700</td>\n",
       "      <td>-2.88438</td>\n",
       "      <td>11.0103</td>\n",
       "      <td>1</td>\n",
       "    </tr>\n",
       "    <tr>\n",
       "      <th>3</th>\n",
       "      <td>149181</td>\n",
       "      <td>1298157807</td>\n",
       "      <td>80.32260</td>\n",
       "      <td>-14.435900</td>\n",
       "      <td>26.110100</td>\n",
       "      <td>74.57610</td>\n",
       "      <td>29.83510</td>\n",
       "      <td>1.647090</td>\n",
       "      <td>2.075850</td>\n",
       "      <td>1</td>\n",
       "      <td>22.38180</td>\n",
       "      <td>2.30876</td>\n",
       "      <td>7.14518</td>\n",
       "      <td>21.084600</td>\n",
       "      <td>7.50892</td>\n",
       "      <td>1.755900</td>\n",
       "      <td>1.25826</td>\n",
       "      <td>12.0104</td>\n",
       "      <td>-1</td>\n",
       "    </tr>\n",
       "    <tr>\n",
       "      <th>4</th>\n",
       "      <td>147754</td>\n",
       "      <td>125401937</td>\n",
       "      <td>3.20864</td>\n",
       "      <td>2.846250</td>\n",
       "      <td>-0.351847</td>\n",
       "      <td>-1.43891</td>\n",
       "      <td>2.86791</td>\n",
       "      <td>-0.482756</td>\n",
       "      <td>-0.122994</td>\n",
       "      <td>1</td>\n",
       "      <td>27.96590</td>\n",
       "      <td>-4.05881</td>\n",
       "      <td>-9.86542</td>\n",
       "      <td>-25.851300</td>\n",
       "      <td>10.66770</td>\n",
       "      <td>-1.618370</td>\n",
       "      <td>-1.96111</td>\n",
       "      <td>11.0105</td>\n",
       "      <td>1</td>\n",
       "    </tr>\n",
       "  </tbody>\n",
       "</table>\n",
       "</div>"
      ],
      "text/plain": [
       "      Run       Event        E1        px1        py1       pz1       pt1  \\\n",
       "0  148029   410503113  24.08500  -4.591070  20.110600  12.43260  20.62800   \n",
       "1  148031   147290061  22.94630  -4.677580   5.187980 -21.85720   6.98534   \n",
       "2  148029    86810610   2.39342   0.346488  -1.935140   1.36514   1.96592   \n",
       "3  149181  1298157807  80.32260 -14.435900  26.110100  74.57610  29.83510   \n",
       "4  147754   125401937   3.20864   2.846250  -0.351847  -1.43891   2.86791   \n",
       "\n",
       "       eta1      phi1  Q1        E2       px2       py2        pz2       pt2  \\\n",
       "0  0.571144  1.795240  -1   2.57188  -2.15672  -1.30836   0.501343   2.52255   \n",
       "1 -1.858470  2.304500   1  67.16120  -8.24769  11.37090 -65.675800  14.04710   \n",
       "2  0.648077 -1.393620   1  33.86190 -30.87370  -8.12102  11.291100  31.92390   \n",
       "3  1.647090  2.075850   1  22.38180   2.30876   7.14518  21.084600   7.50892   \n",
       "4 -0.482756 -0.122994   1  27.96590  -4.05881  -9.86542 -25.851300  10.66770   \n",
       "\n",
       "       eta2     phi2        M  Q2  \n",
       "0  0.197459 -2.59630  12.0101   1  \n",
       "1 -2.246710  2.19832   4.0102   1  \n",
       "2  0.346700 -2.88438  11.0103   1  \n",
       "3  1.755900  1.25826  12.0104  -1  \n",
       "4 -1.618370 -1.96111  11.0105   1  "
      ]
     },
     "execution_count": 496,
     "metadata": {},
     "output_type": "execute_result"
    }
   ],
   "source": [
    "for_model.head()"
   ]
  },
  {
   "cell_type": "code",
   "execution_count": 497,
   "id": "ef1b44ab",
   "metadata": {},
   "outputs": [
    {
     "data": {
      "text/html": [
       "<div>\n",
       "<style scoped>\n",
       "    .dataframe tbody tr th:only-of-type {\n",
       "        vertical-align: middle;\n",
       "    }\n",
       "\n",
       "    .dataframe tbody tr th {\n",
       "        vertical-align: top;\n",
       "    }\n",
       "\n",
       "    .dataframe thead th {\n",
       "        text-align: right;\n",
       "    }\n",
       "</style>\n",
       "<table border=\"1\" class=\"dataframe\">\n",
       "  <thead>\n",
       "    <tr style=\"text-align: right;\">\n",
       "      <th></th>\n",
       "      <th>Run</th>\n",
       "      <th>Event</th>\n",
       "      <th>E1</th>\n",
       "      <th>px1</th>\n",
       "      <th>py1</th>\n",
       "      <th>pz1</th>\n",
       "      <th>pt1</th>\n",
       "      <th>eta1</th>\n",
       "      <th>phi1</th>\n",
       "      <th>Q1</th>\n",
       "      <th>E2</th>\n",
       "      <th>px2</th>\n",
       "      <th>py2</th>\n",
       "      <th>pz2</th>\n",
       "      <th>pt2</th>\n",
       "      <th>eta2</th>\n",
       "      <th>phi2</th>\n",
       "      <th>M</th>\n",
       "      <th>Unnamed: 18</th>\n",
       "    </tr>\n",
       "  </thead>\n",
       "  <tbody>\n",
       "    <tr>\n",
       "      <th>0</th>\n",
       "      <td>148029</td>\n",
       "      <td>100003381</td>\n",
       "      <td>65.06780</td>\n",
       "      <td>5.37255</td>\n",
       "      <td>13.70060</td>\n",
       "      <td>63.381800</td>\n",
       "      <td>14.71640</td>\n",
       "      <td>2.166580</td>\n",
       "      <td>1.197080</td>\n",
       "      <td>-1</td>\n",
       "      <td>29.0169</td>\n",
       "      <td>4.54971</td>\n",
       "      <td>3.45453</td>\n",
       "      <td>28.4490</td>\n",
       "      <td>5.71258</td>\n",
       "      <td>2.30852</td>\n",
       "      <td>0.649418</td>\n",
       "      <td>5.12717</td>\n",
       "      <td>NaN</td>\n",
       "    </tr>\n",
       "    <tr>\n",
       "      <th>1</th>\n",
       "      <td>148031</td>\n",
       "      <td>100042391</td>\n",
       "      <td>3.12536</td>\n",
       "      <td>2.22344</td>\n",
       "      <td>2.00679</td>\n",
       "      <td>-0.892737</td>\n",
       "      <td>2.99514</td>\n",
       "      <td>-0.293816</td>\n",
       "      <td>0.734227</td>\n",
       "      <td>-1</td>\n",
       "      <td>116.8820</td>\n",
       "      <td>6.82027</td>\n",
       "      <td>-21.85020</td>\n",
       "      <td>114.6190</td>\n",
       "      <td>22.88990</td>\n",
       "      <td>2.31389</td>\n",
       "      <td>-1.268240</td>\n",
       "      <td>31.50580</td>\n",
       "      <td>NaN</td>\n",
       "    </tr>\n",
       "    <tr>\n",
       "      <th>2</th>\n",
       "      <td>146511</td>\n",
       "      <td>100064781</td>\n",
       "      <td>71.24670</td>\n",
       "      <td>11.72080</td>\n",
       "      <td>4.58175</td>\n",
       "      <td>70.126500</td>\n",
       "      <td>12.58450</td>\n",
       "      <td>2.418930</td>\n",
       "      <td>0.372643</td>\n",
       "      <td>-1</td>\n",
       "      <td>66.1437</td>\n",
       "      <td>-12.58850</td>\n",
       "      <td>-4.71148</td>\n",
       "      <td>64.7636</td>\n",
       "      <td>13.44130</td>\n",
       "      <td>2.27616</td>\n",
       "      <td>-2.783460</td>\n",
       "      <td>26.07740</td>\n",
       "      <td>NaN</td>\n",
       "    </tr>\n",
       "    <tr>\n",
       "      <th>3</th>\n",
       "      <td>149181</td>\n",
       "      <td>100065292</td>\n",
       "      <td>95.40600</td>\n",
       "      <td>9.38112</td>\n",
       "      <td>-35.11730</td>\n",
       "      <td>-88.210400</td>\n",
       "      <td>36.34870</td>\n",
       "      <td>-1.619690</td>\n",
       "      <td>-1.309760</td>\n",
       "      <td>1</td>\n",
       "      <td>18.6863</td>\n",
       "      <td>1.74850</td>\n",
       "      <td>-3.03126</td>\n",
       "      <td>18.3557</td>\n",
       "      <td>3.49940</td>\n",
       "      <td>2.35946</td>\n",
       "      <td>-1.047590</td>\n",
       "      <td>80.98260</td>\n",
       "      <td>NaN</td>\n",
       "    </tr>\n",
       "    <tr>\n",
       "      <th>4</th>\n",
       "      <td>149181</td>\n",
       "      <td>1000680111</td>\n",
       "      <td>47.24090</td>\n",
       "      <td>-18.94710</td>\n",
       "      <td>-12.78630</td>\n",
       "      <td>41.342700</td>\n",
       "      <td>22.85790</td>\n",
       "      <td>1.354650</td>\n",
       "      <td>-2.547950</td>\n",
       "      <td>1</td>\n",
       "      <td>15.1625</td>\n",
       "      <td>-2.22888</td>\n",
       "      <td>-2.47818</td>\n",
       "      <td>14.7916</td>\n",
       "      <td>3.33305</td>\n",
       "      <td>2.19578</td>\n",
       "      <td>-2.303280</td>\n",
       "      <td>7.85455</td>\n",
       "      <td>NaN</td>\n",
       "    </tr>\n",
       "  </tbody>\n",
       "</table>\n",
       "</div>"
      ],
      "text/plain": [
       "      Run       Event        E1       px1       py1        pz1       pt1  \\\n",
       "0  148029   100003381  65.06780   5.37255  13.70060  63.381800  14.71640   \n",
       "1  148031   100042391   3.12536   2.22344   2.00679  -0.892737   2.99514   \n",
       "2  146511   100064781  71.24670  11.72080   4.58175  70.126500  12.58450   \n",
       "3  149181   100065292  95.40600   9.38112 -35.11730 -88.210400  36.34870   \n",
       "4  149181  1000680111  47.24090 -18.94710 -12.78630  41.342700  22.85790   \n",
       "\n",
       "       eta1      phi1  Q1        E2       px2       py2       pz2       pt2  \\\n",
       "0  2.166580  1.197080  -1   29.0169   4.54971   3.45453   28.4490   5.71258   \n",
       "1 -0.293816  0.734227  -1  116.8820   6.82027 -21.85020  114.6190  22.88990   \n",
       "2  2.418930  0.372643  -1   66.1437 -12.58850  -4.71148   64.7636  13.44130   \n",
       "3 -1.619690 -1.309760   1   18.6863   1.74850  -3.03126   18.3557   3.49940   \n",
       "4  1.354650 -2.547950   1   15.1625  -2.22888  -2.47818   14.7916   3.33305   \n",
       "\n",
       "      eta2      phi2         M  Unnamed: 18  \n",
       "0  2.30852  0.649418   5.12717          NaN  \n",
       "1  2.31389 -1.268240  31.50580          NaN  \n",
       "2  2.27616 -2.783460  26.07740          NaN  \n",
       "3  2.35946 -1.047590  80.98260          NaN  \n",
       "4  2.19578 -2.303280   7.85455          NaN  "
      ]
     },
     "execution_count": 497,
     "metadata": {},
     "output_type": "execute_result"
    }
   ],
   "source": [
    "target.head()"
   ]
  },
  {
   "cell_type": "code",
   "execution_count": 498,
   "id": "ef356ea0",
   "metadata": {},
   "outputs": [
    {
     "data": {
      "text/plain": [
       "(84999, 19)"
      ]
     },
     "execution_count": 498,
     "metadata": {},
     "output_type": "execute_result"
    }
   ],
   "source": [
    "for_model.shape"
   ]
  },
  {
   "cell_type": "code",
   "execution_count": 499,
   "id": "4414036b",
   "metadata": {},
   "outputs": [
    {
     "data": {
      "text/plain": [
       "(14598, 19)"
      ]
     },
     "execution_count": 499,
     "metadata": {},
     "output_type": "execute_result"
    }
   ],
   "source": [
    "target.shape"
   ]
  },
  {
   "cell_type": "code",
   "execution_count": 500,
   "id": "c12255e9",
   "metadata": {},
   "outputs": [
    {
     "name": "stdout",
     "output_type": "stream",
     "text": [
      "<class 'pandas.core.frame.DataFrame'>\n",
      "RangeIndex: 84999 entries, 0 to 84998\n",
      "Data columns (total 19 columns):\n",
      " #   Column  Non-Null Count  Dtype  \n",
      "---  ------  --------------  -----  \n",
      " 0   Run     84999 non-null  int64  \n",
      " 1   Event   84999 non-null  int64  \n",
      " 2   E1      84999 non-null  float64\n",
      " 3   px1     84999 non-null  float64\n",
      " 4   py1     84999 non-null  float64\n",
      " 5   pz1     84999 non-null  float64\n",
      " 6   pt1     84999 non-null  float64\n",
      " 7   eta1    84999 non-null  float64\n",
      " 8   phi1    84999 non-null  float64\n",
      " 9   Q1      84999 non-null  int64  \n",
      " 10  E2      84999 non-null  float64\n",
      " 11  px2     84999 non-null  float64\n",
      " 12  py2     84999 non-null  float64\n",
      " 13  pz2     84999 non-null  float64\n",
      " 14  pt2     84999 non-null  float64\n",
      " 15  eta2    84999 non-null  float64\n",
      " 16  phi2    84999 non-null  float64\n",
      " 17  M       84915 non-null  float64\n",
      " 18  Q2      84999 non-null  int64  \n",
      "dtypes: float64(15), int64(4)\n",
      "memory usage: 12.3 MB\n"
     ]
    }
   ],
   "source": [
    "for_model.info()"
   ]
  },
  {
   "cell_type": "markdown",
   "id": "a9b6898b",
   "metadata": {},
   "source": [
    "# Заполняем NaN-значения"
   ]
  },
  {
   "cell_type": "markdown",
   "id": "e199639e",
   "metadata": {},
   "source": [
    "Такие значения присутствуют только в колонке M. Заполняем их по формуле"
   ]
  },
  {
   "cell_type": "code",
   "execution_count": 501,
   "id": "2cfea937",
   "metadata": {},
   "outputs": [
    {
     "name": "stderr",
     "output_type": "stream",
     "text": [
      "<ipython-input-501-08505a111097>:28: SettingWithCopyWarning: \n",
      "A value is trying to be set on a copy of a slice from a DataFrame\n",
      "\n",
      "See the caveats in the documentation: https://pandas.pydata.org/pandas-docs/stable/user_guide/indexing.html#returning-a-view-versus-a-copy\n",
      "  for_model[\"M\"][nan_indexes] = pd.Series(targs)\n"
     ]
    },
    {
     "data": {
      "text/html": [
       "<div>\n",
       "<style scoped>\n",
       "    .dataframe tbody tr th:only-of-type {\n",
       "        vertical-align: middle;\n",
       "    }\n",
       "\n",
       "    .dataframe tbody tr th {\n",
       "        vertical-align: top;\n",
       "    }\n",
       "\n",
       "    .dataframe thead th {\n",
       "        text-align: right;\n",
       "    }\n",
       "</style>\n",
       "<table border=\"1\" class=\"dataframe\">\n",
       "  <thead>\n",
       "    <tr style=\"text-align: right;\">\n",
       "      <th></th>\n",
       "      <th>Run</th>\n",
       "      <th>Event</th>\n",
       "      <th>E1</th>\n",
       "      <th>px1</th>\n",
       "      <th>py1</th>\n",
       "      <th>pz1</th>\n",
       "      <th>pt1</th>\n",
       "      <th>eta1</th>\n",
       "      <th>phi1</th>\n",
       "      <th>Q1</th>\n",
       "      <th>E2</th>\n",
       "      <th>px2</th>\n",
       "      <th>py2</th>\n",
       "      <th>pz2</th>\n",
       "      <th>pt2</th>\n",
       "      <th>eta2</th>\n",
       "      <th>phi2</th>\n",
       "      <th>M</th>\n",
       "      <th>Q2</th>\n",
       "    </tr>\n",
       "  </thead>\n",
       "  <tbody>\n",
       "    <tr>\n",
       "      <th>84994</th>\n",
       "      <td>149181</td>\n",
       "      <td>364414548</td>\n",
       "      <td>1.40699</td>\n",
       "      <td>-0.728904</td>\n",
       "      <td>0.647857</td>\n",
       "      <td>1.01420</td>\n",
       "      <td>0.975202</td>\n",
       "      <td>0.909370</td>\n",
       "      <td>2.414990</td>\n",
       "      <td>-1</td>\n",
       "      <td>24.62280</td>\n",
       "      <td>-12.73870</td>\n",
       "      <td>11.36170</td>\n",
       "      <td>17.74600</td>\n",
       "      <td>17.0693</td>\n",
       "      <td>0.909127</td>\n",
       "      <td>2.413270</td>\n",
       "      <td>0.030878</td>\n",
       "      <td>1</td>\n",
       "    </tr>\n",
       "    <tr>\n",
       "      <th>84995</th>\n",
       "      <td>146944</td>\n",
       "      <td>654554592</td>\n",
       "      <td>24.21200</td>\n",
       "      <td>10.780400</td>\n",
       "      <td>-12.116100</td>\n",
       "      <td>17.97790</td>\n",
       "      <td>16.217800</td>\n",
       "      <td>0.956076</td>\n",
       "      <td>-0.843667</td>\n",
       "      <td>1</td>\n",
       "      <td>2.62073</td>\n",
       "      <td>1.16556</td>\n",
       "      <td>-1.31086</td>\n",
       "      <td>1.94715</td>\n",
       "      <td>1.7541</td>\n",
       "      <td>0.957094</td>\n",
       "      <td>-0.844003</td>\n",
       "      <td>0.037860</td>\n",
       "      <td>-1</td>\n",
       "    </tr>\n",
       "    <tr>\n",
       "      <th>84996</th>\n",
       "      <td>147929</td>\n",
       "      <td>252498172</td>\n",
       "      <td>2.71035</td>\n",
       "      <td>0.258549</td>\n",
       "      <td>1.792850</td>\n",
       "      <td>2.01614</td>\n",
       "      <td>1.811400</td>\n",
       "      <td>0.959084</td>\n",
       "      <td>1.427570</td>\n",
       "      <td>-1</td>\n",
       "      <td>19.28590</td>\n",
       "      <td>1.83493</td>\n",
       "      <td>12.76360</td>\n",
       "      <td>14.34110</td>\n",
       "      <td>12.8948</td>\n",
       "      <td>0.958503</td>\n",
       "      <td>1.428010</td>\n",
       "      <td>0.053129</td>\n",
       "      <td>1</td>\n",
       "    </tr>\n",
       "    <tr>\n",
       "      <th>84997</th>\n",
       "      <td>146944</td>\n",
       "      <td>140039199</td>\n",
       "      <td>3.47801</td>\n",
       "      <td>-0.733209</td>\n",
       "      <td>2.166230</td>\n",
       "      <td>2.62038</td>\n",
       "      <td>2.286960</td>\n",
       "      <td>0.980804</td>\n",
       "      <td>1.897160</td>\n",
       "      <td>-1</td>\n",
       "      <td>16.78890</td>\n",
       "      <td>-3.52827</td>\n",
       "      <td>10.45790</td>\n",
       "      <td>12.65110</td>\n",
       "      <td>11.0370</td>\n",
       "      <td>0.981098</td>\n",
       "      <td>1.896180</td>\n",
       "      <td>0.026039</td>\n",
       "      <td>1</td>\n",
       "    </tr>\n",
       "    <tr>\n",
       "      <th>84998</th>\n",
       "      <td>146644</td>\n",
       "      <td>1614382245</td>\n",
       "      <td>7.38536</td>\n",
       "      <td>-2.363610</td>\n",
       "      <td>-2.970070</td>\n",
       "      <td>6.33526</td>\n",
       "      <td>3.795790</td>\n",
       "      <td>1.285010</td>\n",
       "      <td>-2.242980</td>\n",
       "      <td>-1</td>\n",
       "      <td>54.26190</td>\n",
       "      <td>-17.36100</td>\n",
       "      <td>-21.81590</td>\n",
       "      <td>46.55120</td>\n",
       "      <td>27.8808</td>\n",
       "      <td>1.285330</td>\n",
       "      <td>-2.242970</td>\n",
       "      <td>0.049656</td>\n",
       "      <td>1</td>\n",
       "    </tr>\n",
       "  </tbody>\n",
       "</table>\n",
       "</div>"
      ],
      "text/plain": [
       "          Run       Event        E1        px1        py1       pz1  \\\n",
       "84994  149181   364414548   1.40699  -0.728904   0.647857   1.01420   \n",
       "84995  146944   654554592  24.21200  10.780400 -12.116100  17.97790   \n",
       "84996  147929   252498172   2.71035   0.258549   1.792850   2.01614   \n",
       "84997  146944   140039199   3.47801  -0.733209   2.166230   2.62038   \n",
       "84998  146644  1614382245   7.38536  -2.363610  -2.970070   6.33526   \n",
       "\n",
       "             pt1      eta1      phi1  Q1        E2       px2       py2  \\\n",
       "84994   0.975202  0.909370  2.414990  -1  24.62280 -12.73870  11.36170   \n",
       "84995  16.217800  0.956076 -0.843667   1   2.62073   1.16556  -1.31086   \n",
       "84996   1.811400  0.959084  1.427570  -1  19.28590   1.83493  12.76360   \n",
       "84997   2.286960  0.980804  1.897160  -1  16.78890  -3.52827  10.45790   \n",
       "84998   3.795790  1.285010 -2.242980  -1  54.26190 -17.36100 -21.81590   \n",
       "\n",
       "            pz2      pt2      eta2      phi2         M  Q2  \n",
       "84994  17.74600  17.0693  0.909127  2.413270  0.030878   1  \n",
       "84995   1.94715   1.7541  0.957094 -0.844003  0.037860  -1  \n",
       "84996  14.34110  12.8948  0.958503  1.428010  0.053129   1  \n",
       "84997  12.65110  11.0370  0.981098  1.896180  0.026039   1  \n",
       "84998  46.55120  27.8808  1.285330 -2.242970  0.049656   1  "
      ]
     },
     "execution_count": 501,
     "metadata": {},
     "output_type": "execute_result"
    }
   ],
   "source": [
    "# for_model['M'].fillna(for_model['M'].mean(), inplace=True)# - just inplace None to mean of all means \n",
    "\n",
    "# X_train_model_M = for_model[for_model[\"M\"].notna()].drop(columns=[\"M\"])\n",
    "# y_train_model_M = for_model[for_model[\"M\"].notna()][\"M\"]\n",
    "# X_test_model_M = for_model[for_model[\"M\"].isnull()].drop(columns=[\"M\"])\n",
    "# model_M = xgb.XGBRegressor()\n",
    "# model_M.fit(X_train_model_M, y_train_model_M)\n",
    "# y_test_model_M = model_M.predict(X_test_model_M)\n",
    "# nan_indexes = for_model[for_model[\"M\"].isnull()].index\n",
    "# nan_indexes = nan_indexes.to_list()\n",
    "# for_model[\"M\"][nan_indexes] = pd.Series(y_test_model_M)\n",
    "# for_model[\"M\"] # regression\n",
    "\n",
    "# nan_indexes = for_model[for_model[\"M\"].isnull()].index\n",
    "# nan_indexes = nan_indexes.to_list()\n",
    "# for_model.drop(index=nan_indexes, inplace=True) # delete\n",
    "\n",
    "for_M = for_model[for_model[\"M\"].isnull()].drop(columns=[\"M\"])\n",
    "targs = []\n",
    "for_M.head()\n",
    "for i in range(len(for_M[\"Event\"])):\n",
    "    e12 = for_M.iloc[i][\"E1\"] + for_M.iloc[i][\"E2\"]\n",
    "    p12 = np.sqrt((for_M.iloc[i][\"px1\"] + for_M.iloc[i][\"px2\"]) ** 2 + (for_M.iloc[i][\"py1\"] + for_M.iloc[i][\"py2\"]) ** 2 + (for_M.iloc[i][\"pz1\"] + for_M.iloc[i][\"pz2\"]) ** 2)\n",
    "    targ = np.sqrt(abs(e12 ** 2 - p12 ** 2))\n",
    "    targs.append(targ)\n",
    "nan_indexes = for_model[for_model[\"M\"].isnull()].index\n",
    "nan_indexes = nan_indexes.to_list()\n",
    "for_model[\"M\"][nan_indexes] = pd.Series(targs)\n",
    "for_model.tail()"
   ]
  },
  {
   "cell_type": "code",
   "execution_count": 502,
   "id": "cef3ea78",
   "metadata": {},
   "outputs": [
    {
     "name": "stdout",
     "output_type": "stream",
     "text": [
      "<class 'pandas.core.frame.DataFrame'>\n",
      "RangeIndex: 14598 entries, 0 to 14597\n",
      "Data columns (total 19 columns):\n",
      " #   Column       Non-Null Count  Dtype  \n",
      "---  ------       --------------  -----  \n",
      " 0   Run          14598 non-null  int64  \n",
      " 1   Event        14598 non-null  int64  \n",
      " 2   E1           14598 non-null  float64\n",
      " 3   px1          14598 non-null  float64\n",
      " 4   py1          14598 non-null  float64\n",
      " 5   pz1          14598 non-null  float64\n",
      " 6   pt1          14598 non-null  float64\n",
      " 7   eta1         14598 non-null  float64\n",
      " 8   phi1         14598 non-null  float64\n",
      " 9   Q1           14598 non-null  int64  \n",
      " 10  E2           14598 non-null  float64\n",
      " 11  px2          14598 non-null  float64\n",
      " 12  py2          14598 non-null  float64\n",
      " 13  pz2          14598 non-null  float64\n",
      " 14  pt2          14598 non-null  float64\n",
      " 15  eta2         14598 non-null  float64\n",
      " 16  phi2         14598 non-null  float64\n",
      " 17  M            14597 non-null  float64\n",
      " 18  Unnamed: 18  0 non-null      float64\n",
      "dtypes: float64(16), int64(3)\n",
      "memory usage: 2.1 MB\n"
     ]
    }
   ],
   "source": [
    "target.info()"
   ]
  },
  {
   "cell_type": "code",
   "execution_count": 503,
   "id": "39852722",
   "metadata": {},
   "outputs": [],
   "source": [
    "target['M'].fillna(target['M'].mean(), inplace=True)"
   ]
  },
  {
   "cell_type": "code",
   "execution_count": 504,
   "id": "6eacd46f",
   "metadata": {},
   "outputs": [],
   "source": [
    "target = target.drop(columns = [\"Unnamed: 18\"]) # удаляем ненужную колонку"
   ]
  },
  {
   "cell_type": "code",
   "execution_count": 505,
   "id": "7b26bf2f",
   "metadata": {},
   "outputs": [
    {
     "data": {
      "text/plain": [
       "-1    42574\n",
       " 1    42425\n",
       "Name: Q1, dtype: int64"
      ]
     },
     "execution_count": 505,
     "metadata": {},
     "output_type": "execute_result"
    }
   ],
   "source": [
    "for_model['Q1'].value_counts()"
   ]
  },
  {
   "cell_type": "code",
   "execution_count": 506,
   "id": "d82be2f8",
   "metadata": {},
   "outputs": [
    {
     "data": {
      "text/plain": [
       "-1    42682\n",
       " 1    42317\n",
       "Name: Q2, dtype: int64"
      ]
     },
     "execution_count": 506,
     "metadata": {},
     "output_type": "execute_result"
    }
   ],
   "source": [
    "for_model['Q2'].value_counts()"
   ]
  },
  {
   "cell_type": "markdown",
   "id": "708cfeac",
   "metadata": {},
   "source": [
    "# Обрабатываем выбросы"
   ]
  },
  {
   "cell_type": "code",
   "execution_count": 507,
   "id": "75f31df5",
   "metadata": {},
   "outputs": [],
   "source": [
    "numeric_col = [\"E1\", \"px1\", \"py1\", \"pz1\", \"pt1\", \"eta1\", \"phi1\", \"Q1\", \"E2\", \"px2\", \"py2\", \"pz2\", \"pt2\", \"eta2\", \"phi2\", \"M\"]"
   ]
  },
  {
   "cell_type": "code",
   "execution_count": 508,
   "id": "7180ddec",
   "metadata": {},
   "outputs": [
    {
     "data": {
      "image/png": "[encoded data removed]",
      "text/plain": [
       "<Figure size 1080x1080 with 16 Axes>"
      ]
     },
     "metadata": {
      "needs_background": "light"
     },
     "output_type": "display_data"
    }
   ],
   "source": [
    "plt.figure(figsize=(15,15))\n",
    "for i in range(len(numeric_col)):\n",
    "    plt.subplot(4, 4, i + 1).set_title(numeric_col[i])\n",
    "    plt.boxplot(x=for_model[numeric_col[i]])"
   ]
  },
  {
   "cell_type": "code",
   "execution_count": 509,
   "id": "d6105298",
   "metadata": {},
   "outputs": [],
   "source": [
    "# for x in numeric_col:\n",
    "#     q25, q75 = np.percentile(for_model[x],[25, 75])\n",
    "#     iqr = q75 - q25\n",
    "#     is_max = q75 + (1.5 * iqr)\n",
    "#     is_min = q25 - (1.5 * iqr)\n",
    "#     for_model.loc[(for_model[x] < is_min), x] = np.nan\n",
    "#     for_model.loc[(for_model[x] > is_max), x] = np.nan"
   ]
  },
  {
   "cell_type": "code",
   "execution_count": 510,
   "id": "e1c1a1d8",
   "metadata": {},
   "outputs": [],
   "source": [
    "#E1\n",
    "len(for_model[(for_model[\"E1\"] > 300)][\"E1\"]) # 300\n",
    "for_model.loc[(for_model[\"E1\"] > 300), \"E1\"] = np.nan"
   ]
  },
  {
   "cell_type": "code",
   "execution_count": 511,
   "id": "189e0fd8",
   "metadata": {},
   "outputs": [],
   "source": [
    "#px1\n",
    "len(for_model[(for_model[\"px1\"] > 70) | (for_model[\"px1\"] < -100)][\"px1\"]) #70 -100\n",
    "for_model.loc[(for_model[\"px1\"] > 70) | (for_model[\"px1\"] < -100), \"px1\"] = np.nan"
   ]
  },
  {
   "cell_type": "code",
   "execution_count": 512,
   "id": "579577e5",
   "metadata": {},
   "outputs": [],
   "source": [
    "#py1\n",
    "len(for_model[(for_model[\"py1\"] > 70) | (for_model[\"py1\"] < -100)][\"py1\"])\n",
    "for_model.loc[(for_model[\"py1\"] > 70) | (for_model[\"py1\"] < -100), \"py1\"] = np.nan"
   ]
  },
  {
   "cell_type": "code",
   "execution_count": 513,
   "id": "5d8f1aa7",
   "metadata": {},
   "outputs": [],
   "source": [
    "#pz1\n",
    "len(for_model[(for_model[\"pz1\"] > 300) | (for_model[\"pz1\"] < -300)][\"pz1\"])\n",
    "for_model.loc[(for_model[\"pz1\"] > 300) | (for_model[\"pz1\"] < -300), \"pz1\"] = np.nan"
   ]
  },
  {
   "cell_type": "code",
   "execution_count": 514,
   "id": "a3e46ffa",
   "metadata": {},
   "outputs": [],
   "source": [
    "#pt1\n",
    "len(for_model[(for_model[\"pt1\"] > 105)][\"pt1\"])\n",
    "for_model.loc[(for_model[\"pt1\"] > 105), \"pt1\"] = np.nan"
   ]
  },
  {
   "cell_type": "code",
   "execution_count": null,
   "id": "f076e584",
   "metadata": {},
   "outputs": [],
   "source": []
  },
  {
   "cell_type": "code",
   "execution_count": 515,
   "id": "8a9ce9e5",
   "metadata": {},
   "outputs": [],
   "source": [
    "#E2\n",
    "len(for_model[(for_model[\"E2\"] > 300)][\"E2\"])\n",
    "for_model.loc[(for_model[\"E2\"] > 300), \"E2\"] = np.nan"
   ]
  },
  {
   "cell_type": "code",
   "execution_count": 516,
   "id": "b9daeac7",
   "metadata": {},
   "outputs": [],
   "source": [
    "#px2\n",
    "len(for_model[(for_model[\"px2\"] > 70) | (for_model[\"px2\"] < -100)][\"px2\"])\n",
    "for_model.loc[(for_model[\"px2\"] > 70) | (for_model[\"px2\"] < -100), \"px2\"] = np.nan"
   ]
  },
  {
   "cell_type": "code",
   "execution_count": 517,
   "id": "9613f1a6",
   "metadata": {},
   "outputs": [],
   "source": [
    "#py2\n",
    "len(for_model[(for_model[\"py2\"] > 70) | (for_model[\"py2\"] < -100)][\"py2\"])\n",
    "for_model.loc[(for_model[\"py2\"] > 70) | (for_model[\"py2\"] < -100), \"py2\"] = np.nan"
   ]
  },
  {
   "cell_type": "code",
   "execution_count": 518,
   "id": "edefe97a",
   "metadata": {},
   "outputs": [],
   "source": [
    "#pz2\n",
    "len(for_model[(for_model[\"pz2\"] > 300) | (for_model[\"pz2\"] < -300)][\"pz2\"])\n",
    "for_model.loc[(for_model[\"pz2\"] > 300) | (for_model[\"pz2\"] < -300), \"pz2\"] = np.nan"
   ]
  },
  {
   "cell_type": "code",
   "execution_count": 519,
   "id": "eec8f138",
   "metadata": {},
   "outputs": [],
   "source": [
    "#pt2\n",
    "len(for_model[(for_model[\"pt2\"] > 105)][\"pt2\"])\n",
    "for_model.loc[(for_model[\"pt2\"] > 105), \"pt2\"] = np.nan"
   ]
  },
  {
   "cell_type": "code",
   "execution_count": 520,
   "id": "a5fc09f1",
   "metadata": {},
   "outputs": [],
   "source": [
    "#M\n",
    "len(for_model[(for_model[\"pt2\"] > 105)][\"pt2\"])\n",
    "for_model.loc[(for_model[\"pt2\"] > 105), \"pt2\"] = np.nan"
   ]
  },
  {
   "cell_type": "code",
   "execution_count": 521,
   "id": "04edbeec",
   "metadata": {},
   "outputs": [
    {
     "name": "stdout",
     "output_type": "stream",
     "text": [
      "<class 'pandas.core.frame.DataFrame'>\n",
      "RangeIndex: 84999 entries, 0 to 84998\n",
      "Data columns (total 19 columns):\n",
      " #   Column  Non-Null Count  Dtype  \n",
      "---  ------  --------------  -----  \n",
      " 0   Run     84999 non-null  int64  \n",
      " 1   Event   84999 non-null  int64  \n",
      " 2   E1      84918 non-null  float64\n",
      " 3   px1     84948 non-null  float64\n",
      " 4   py1     84945 non-null  float64\n",
      " 5   pz1     84935 non-null  float64\n",
      " 6   pt1     84959 non-null  float64\n",
      " 7   eta1    84999 non-null  float64\n",
      " 8   phi1    84999 non-null  float64\n",
      " 9   Q1      84999 non-null  int64  \n",
      " 10  E2      84890 non-null  float64\n",
      " 11  px2     84942 non-null  float64\n",
      " 12  py2     84940 non-null  float64\n",
      " 13  pz2     84900 non-null  float64\n",
      " 14  pt2     84952 non-null  float64\n",
      " 15  eta2    84999 non-null  float64\n",
      " 16  phi2    84999 non-null  float64\n",
      " 17  M       84999 non-null  float64\n",
      " 18  Q2      84999 non-null  int64  \n",
      "dtypes: float64(15), int64(4)\n",
      "memory usage: 12.3 MB\n"
     ]
    }
   ],
   "source": [
    "for_model.info()"
   ]
  },
  {
   "cell_type": "code",
   "execution_count": 522,
   "id": "fddf57cf",
   "metadata": {},
   "outputs": [],
   "source": [
    "for_model = for_model.dropna(axis = 0)"
   ]
  },
  {
   "cell_type": "code",
   "execution_count": 523,
   "id": "977f1dd1",
   "metadata": {},
   "outputs": [
    {
     "name": "stdout",
     "output_type": "stream",
     "text": [
      "<class 'pandas.core.frame.DataFrame'>\n",
      "Int64Index: 84632 entries, 0 to 84998\n",
      "Data columns (total 19 columns):\n",
      " #   Column  Non-Null Count  Dtype  \n",
      "---  ------  --------------  -----  \n",
      " 0   Run     84632 non-null  int64  \n",
      " 1   Event   84632 non-null  int64  \n",
      " 2   E1      84632 non-null  float64\n",
      " 3   px1     84632 non-null  float64\n",
      " 4   py1     84632 non-null  float64\n",
      " 5   pz1     84632 non-null  float64\n",
      " 6   pt1     84632 non-null  float64\n",
      " 7   eta1    84632 non-null  float64\n",
      " 8   phi1    84632 non-null  float64\n",
      " 9   Q1      84632 non-null  int64  \n",
      " 10  E2      84632 non-null  float64\n",
      " 11  px2     84632 non-null  float64\n",
      " 12  py2     84632 non-null  float64\n",
      " 13  pz2     84632 non-null  float64\n",
      " 14  pt2     84632 non-null  float64\n",
      " 15  eta2    84632 non-null  float64\n",
      " 16  phi2    84632 non-null  float64\n",
      " 17  M       84632 non-null  float64\n",
      " 18  Q2      84632 non-null  int64  \n",
      "dtypes: float64(15), int64(4)\n",
      "memory usage: 12.9 MB\n"
     ]
    }
   ],
   "source": [
    "for_model.info()"
   ]
  },
  {
   "cell_type": "markdown",
   "id": "10f11c32",
   "metadata": {},
   "source": [
    "# Добавляем новые фичи"
   ]
  },
  {
   "cell_type": "markdown",
   "id": "4297cf5b",
   "metadata": {},
   "source": [
    "Угол тета"
   ]
  },
  {
   "cell_type": "code",
   "execution_count": 524,
   "id": "c3a3b825",
   "metadata": {},
   "outputs": [],
   "source": [
    "teta1 = 0.5 * np.arctan(np.power(np.array([2.718] * len(for_model[\"eta1\"].tolist())), -1 * np.array(for_model[\"eta1\"].tolist())))\n",
    "teta2 = 0.5 * np.arctan(np.power(np.array([2.718] * len(for_model[\"eta2\"].tolist())), -1 * np.array(for_model[\"eta2\"].tolist())))\n",
    "# for_model.drop(columns=[\"teta_1\", \"teta2\"], inplace=True)\n",
    "for_model.insert(loc=8, column=\"teta_1\", value=teta1)\n",
    "for_model.insert(loc=17, column=\"teta_2\", value=teta2)"
   ]
  },
  {
   "cell_type": "markdown",
   "id": "5a9f7d31",
   "metadata": {},
   "source": [
    "Модуль импульса"
   ]
  },
  {
   "cell_type": "code",
   "execution_count": 525,
   "id": "12ad4dbe",
   "metadata": {},
   "outputs": [],
   "source": [
    "p1 = np.sqrt(np.array(for_model[\"px1\"]) ** 2 + np.array(for_model[\"py1\"]) ** 2 + np.array(for_model[\"pz1\"] ** 2))\n",
    "p2 = np.sqrt(np.array(for_model[\"px2\"]) ** 2 + np.array(for_model[\"py2\"]) ** 2 + np.array(for_model[\"pz2\"] ** 2))\n",
    "# for_model.drop(columns=[\"p1\"], inplace=True)\n",
    "for_model.insert(loc=6, column=\"p1\", value=p1)\n",
    "for_model.insert(loc=16, column=\"p2\", value=p2)"
   ]
  },
  {
   "cell_type": "markdown",
   "id": "39b2f52c",
   "metadata": {},
   "source": [
    "Скорость частиц"
   ]
  },
  {
   "cell_type": "code",
   "execution_count": 526,
   "id": "2fd277ce",
   "metadata": {},
   "outputs": [],
   "source": [
    "v1 = np.array(for_model[\"p1\"]) / np.array(for_model[\"E1\"])\n",
    "v2 = np.array(for_model[\"p2\"]) / np.array(for_model[\"E2\"])\n",
    "for_model.insert(loc=6, column=\"v1\", value=v1)\n",
    "for_model.insert(loc=16, column=\"v2\", value=v2)"
   ]
  },
  {
   "cell_type": "markdown",
   "id": "d3021705",
   "metadata": {},
   "source": [
    "Какая то штука из видоса"
   ]
  },
  {
   "cell_type": "code",
   "execution_count": 527,
   "id": "673b0924",
   "metadata": {},
   "outputs": [],
   "source": [
    "y1 = (1 / (1 - np.array(for_model[\"v1\"]) ** 2) ** 2)\n",
    "y2 = (1 / (1 - np.array(for_model[\"v2\"]) ** 2) ** 2)\n",
    "for_model.insert(loc=6, column=\"y1\", value=y1)\n",
    "for_model.insert(loc=16, column=\"y2\", value=y2)"
   ]
  },
  {
   "cell_type": "markdown",
   "id": "ebaee3ba",
   "metadata": {},
   "source": [
    "Массы"
   ]
  },
  {
   "cell_type": "code",
   "execution_count": 528,
   "id": "8304c27c",
   "metadata": {},
   "outputs": [],
   "source": [
    "m1 = np.array(for_model[\"E1\"]) / np.array(for_model[\"y1\"])\n",
    "m2 = np.array(for_model[\"E2\"]) / np.array(for_model[\"y2\"])\n",
    "for_model.insert(loc=20, column=\"m1\", value=m1)\n",
    "for_model.insert(loc=20, column=\"m2\", value=m2)"
   ]
  },
  {
   "cell_type": "code",
   "execution_count": 529,
   "id": "8a62fb74",
   "metadata": {},
   "outputs": [
    {
     "data": {
      "text/html": [
       "<div>\n",
       "<style scoped>\n",
       "    .dataframe tbody tr th:only-of-type {\n",
       "        vertical-align: middle;\n",
       "    }\n",
       "\n",
       "    .dataframe tbody tr th {\n",
       "        vertical-align: top;\n",
       "    }\n",
       "\n",
       "    .dataframe thead th {\n",
       "        text-align: right;\n",
       "    }\n",
       "</style>\n",
       "<table border=\"1\" class=\"dataframe\">\n",
       "  <thead>\n",
       "    <tr style=\"text-align: right;\">\n",
       "      <th></th>\n",
       "      <th>Run</th>\n",
       "      <th>Event</th>\n",
       "      <th>E1</th>\n",
       "      <th>px1</th>\n",
       "      <th>py1</th>\n",
       "      <th>pz1</th>\n",
       "      <th>y1</th>\n",
       "      <th>v1</th>\n",
       "      <th>p1</th>\n",
       "      <th>pt1</th>\n",
       "      <th>...</th>\n",
       "      <th>pz2</th>\n",
       "      <th>m2</th>\n",
       "      <th>m1</th>\n",
       "      <th>p2</th>\n",
       "      <th>pt2</th>\n",
       "      <th>eta2</th>\n",
       "      <th>teta_2</th>\n",
       "      <th>phi2</th>\n",
       "      <th>M</th>\n",
       "      <th>Q2</th>\n",
       "    </tr>\n",
       "  </thead>\n",
       "  <tbody>\n",
       "    <tr>\n",
       "      <th>0</th>\n",
       "      <td>148029</td>\n",
       "      <td>410503113</td>\n",
       "      <td>24.08500</td>\n",
       "      <td>-4.591070</td>\n",
       "      <td>20.110600</td>\n",
       "      <td>12.43260</td>\n",
       "      <td>2.706380e+10</td>\n",
       "      <td>0.999997</td>\n",
       "      <td>24.084927</td>\n",
       "      <td>20.62800</td>\n",
       "      <td>...</td>\n",
       "      <td>0.501343</td>\n",
       "      <td>3.708447e-11</td>\n",
       "      <td>8.899343e-10</td>\n",
       "      <td>2.571885</td>\n",
       "      <td>2.52255</td>\n",
       "      <td>0.197459</td>\n",
       "      <td>0.343657</td>\n",
       "      <td>-2.59630</td>\n",
       "      <td>12.0101</td>\n",
       "      <td>1</td>\n",
       "    </tr>\n",
       "    <tr>\n",
       "      <th>1</th>\n",
       "      <td>148031</td>\n",
       "      <td>147290061</td>\n",
       "      <td>22.94630</td>\n",
       "      <td>-4.677580</td>\n",
       "      <td>5.187980</td>\n",
       "      <td>-21.85720</td>\n",
       "      <td>7.682743e+11</td>\n",
       "      <td>0.999999</td>\n",
       "      <td>22.946287</td>\n",
       "      <td>6.98534</td>\n",
       "      <td>...</td>\n",
       "      <td>-65.675800</td>\n",
       "      <td>1.063985e-10</td>\n",
       "      <td>2.986733e-11</td>\n",
       "      <td>67.161242</td>\n",
       "      <td>14.04710</td>\n",
       "      <td>-2.246710</td>\n",
       "      <td>0.732708</td>\n",
       "      <td>2.19832</td>\n",
       "      <td>4.0102</td>\n",
       "      <td>1</td>\n",
       "    </tr>\n",
       "    <tr>\n",
       "      <th>2</th>\n",
       "      <td>148029</td>\n",
       "      <td>86810610</td>\n",
       "      <td>2.39342</td>\n",
       "      <td>0.346488</td>\n",
       "      <td>-1.935140</td>\n",
       "      <td>1.36514</td>\n",
       "      <td>3.344625e+10</td>\n",
       "      <td>0.999997</td>\n",
       "      <td>2.393413</td>\n",
       "      <td>1.96592</td>\n",
       "      <td>...</td>\n",
       "      <td>11.291100</td>\n",
       "      <td>2.341009e-10</td>\n",
       "      <td>7.156019e-11</td>\n",
       "      <td>33.861855</td>\n",
       "      <td>31.92390</td>\n",
       "      <td>0.346700</td>\n",
       "      <td>0.307719</td>\n",
       "      <td>-2.88438</td>\n",
       "      <td>11.0103</td>\n",
       "      <td>1</td>\n",
       "    </tr>\n",
       "    <tr>\n",
       "      <th>3</th>\n",
       "      <td>149181</td>\n",
       "      <td>1298157807</td>\n",
       "      <td>80.32260</td>\n",
       "      <td>-14.435900</td>\n",
       "      <td>26.110100</td>\n",
       "      <td>74.57610</td>\n",
       "      <td>8.139255e+11</td>\n",
       "      <td>1.000001</td>\n",
       "      <td>80.322645</td>\n",
       "      <td>29.83510</td>\n",
       "      <td>...</td>\n",
       "      <td>21.084600</td>\n",
       "      <td>3.700284e-11</td>\n",
       "      <td>9.868544e-11</td>\n",
       "      <td>22.381786</td>\n",
       "      <td>7.50892</td>\n",
       "      <td>1.755900</td>\n",
       "      <td>0.085547</td>\n",
       "      <td>1.25826</td>\n",
       "      <td>12.0104</td>\n",
       "      <td>-1</td>\n",
       "    </tr>\n",
       "    <tr>\n",
       "      <th>4</th>\n",
       "      <td>147754</td>\n",
       "      <td>125401937</td>\n",
       "      <td>3.20864</td>\n",
       "      <td>2.846250</td>\n",
       "      <td>-0.351847</td>\n",
       "      <td>-1.43891</td>\n",
       "      <td>1.485449e+11</td>\n",
       "      <td>1.000001</td>\n",
       "      <td>3.208644</td>\n",
       "      <td>2.86791</td>\n",
       "      <td>...</td>\n",
       "      <td>-25.851300</td>\n",
       "      <td>8.970588e-11</td>\n",
       "      <td>2.160047e-11</td>\n",
       "      <td>27.965875</td>\n",
       "      <td>10.66770</td>\n",
       "      <td>-1.618370</td>\n",
       "      <td>0.687540</td>\n",
       "      <td>-1.96111</td>\n",
       "      <td>11.0105</td>\n",
       "      <td>1</td>\n",
       "    </tr>\n",
       "  </tbody>\n",
       "</table>\n",
       "<p>5 rows × 29 columns</p>\n",
       "</div>"
      ],
      "text/plain": [
       "      Run       Event        E1        px1        py1       pz1            y1  \\\n",
       "0  148029   410503113  24.08500  -4.591070  20.110600  12.43260  2.706380e+10   \n",
       "1  148031   147290061  22.94630  -4.677580   5.187980 -21.85720  7.682743e+11   \n",
       "2  148029    86810610   2.39342   0.346488  -1.935140   1.36514  3.344625e+10   \n",
       "3  149181  1298157807  80.32260 -14.435900  26.110100  74.57610  8.139255e+11   \n",
       "4  147754   125401937   3.20864   2.846250  -0.351847  -1.43891  1.485449e+11   \n",
       "\n",
       "         v1         p1       pt1  ...        pz2            m2            m1  \\\n",
       "0  0.999997  24.084927  20.62800  ...   0.501343  3.708447e-11  8.899343e-10   \n",
       "1  0.999999  22.946287   6.98534  ... -65.675800  1.063985e-10  2.986733e-11   \n",
       "2  0.999997   2.393413   1.96592  ...  11.291100  2.341009e-10  7.156019e-11   \n",
       "3  1.000001  80.322645  29.83510  ...  21.084600  3.700284e-11  9.868544e-11   \n",
       "4  1.000001   3.208644   2.86791  ... -25.851300  8.970588e-11  2.160047e-11   \n",
       "\n",
       "          p2       pt2      eta2    teta_2     phi2        M  Q2  \n",
       "0   2.571885   2.52255  0.197459  0.343657 -2.59630  12.0101   1  \n",
       "1  67.161242  14.04710 -2.246710  0.732708  2.19832   4.0102   1  \n",
       "2  33.861855  31.92390  0.346700  0.307719 -2.88438  11.0103   1  \n",
       "3  22.381786   7.50892  1.755900  0.085547  1.25826  12.0104  -1  \n",
       "4  27.965875  10.66770 -1.618370  0.687540 -1.96111  11.0105   1  \n",
       "\n",
       "[5 rows x 29 columns]"
      ]
     },
     "execution_count": 529,
     "metadata": {},
     "output_type": "execute_result"
    }
   ],
   "source": [
    "for_model.head()"
   ]
  },
  {
   "cell_type": "markdown",
   "id": "eb422575",
   "metadata": {},
   "source": [
    "Для target тоже самое"
   ]
  },
  {
   "cell_type": "code",
   "execution_count": 530,
   "id": "2e6b22ab",
   "metadata": {},
   "outputs": [],
   "source": [
    "teta1 = 0.5 * np.arctan(np.power(np.array([2.718] * len(target[\"eta1\"].tolist())), -1 * np.array(target[\"eta1\"].tolist())))\n",
    "teta2 = 0.5 * np.arctan(np.power(np.array([2.718] * len(target[\"eta2\"].tolist())), -1 * np.array(target[\"eta2\"].tolist())))\n",
    "target.insert(loc=8, column=\"teta_1\", value=teta1)\n",
    "target.insert(loc=17, column=\"teta_2\", value=teta2)"
   ]
  },
  {
   "cell_type": "code",
   "execution_count": 531,
   "id": "5c67d5c8",
   "metadata": {},
   "outputs": [],
   "source": [
    "p1 = np.sqrt(np.array(target[\"px1\"]) ** 2 + np.array(target[\"py1\"]) ** 2 + np.array(target[\"pz1\"] ** 2))\n",
    "p2 = np.sqrt(np.array(target[\"px2\"]) ** 2 + np.array(target[\"py2\"]) ** 2 + np.array(target[\"pz2\"] ** 2))\n",
    "target.insert(loc=6, column=\"p1\", value=p1)\n",
    "target.insert(loc=16, column=\"p2\", value=p2)"
   ]
  },
  {
   "cell_type": "code",
   "execution_count": 532,
   "id": "cce75c20",
   "metadata": {},
   "outputs": [],
   "source": [
    "v1 = np.array(target[\"p1\"]) / np.array(target[\"E1\"])\n",
    "v2 = np.array(target[\"p2\"]) / np.array(target[\"E2\"])\n",
    "target.insert(loc=6, column=\"v1\", value=v1)\n",
    "target.insert(loc=16, column=\"v2\", value=v2)"
   ]
  },
  {
   "cell_type": "code",
   "execution_count": 533,
   "id": "f5f19e6a",
   "metadata": {},
   "outputs": [],
   "source": [
    "y1 = (1 / (1 - np.array(target[\"v1\"]) ** 2) ** 2)\n",
    "y2 = (1 / (1 - np.array(target[\"v2\"]) ** 2) ** 2)\n",
    "target.insert(loc=6, column=\"y1\", value=y1)\n",
    "target.insert(loc=16, column=\"y2\", value=y2)"
   ]
  },
  {
   "cell_type": "code",
   "execution_count": 534,
   "id": "8a698fe6",
   "metadata": {},
   "outputs": [],
   "source": [
    "m1 = np.array(target[\"E1\"]) / np.array(target[\"y1\"])\n",
    "m2 = np.array(target[\"E2\"]) / np.array(target[\"y2\"])\n",
    "target.insert(loc=20, column=\"m1\", value=m1)\n",
    "target.insert(loc=20, column=\"m2\", value=m2)"
   ]
  },
  {
   "cell_type": "markdown",
   "id": "280dd9f7",
   "metadata": {},
   "source": [
    "Смотрим важность признаков (скопировал)"
   ]
  },
  {
   "cell_type": "code",
   "execution_count": 535,
   "id": "dea4aaa9",
   "metadata": {},
   "outputs": [],
   "source": [
    "max_bin = 7\n",
    "force_bin = 3\n",
    "\n",
    "def mono_bin(Y, X, n = max_bin):\n",
    "    \n",
    "    df1 = pd.DataFrame({\"X\": X, \"Y\": Y})\n",
    "    justmiss = df1[['X','Y']][df1.X.isnull()]\n",
    "    notmiss = df1[['X','Y']][df1.X.notnull()]\n",
    "    r = 0\n",
    "    while np.abs(r) < 1:\n",
    "        try:\n",
    "            d1 = pd.DataFrame({\"X\": notmiss.X, \"Y\": notmiss.Y, \"Bucket\": pd.qcut(notmiss.X, n)})\n",
    "            d2 = d1.groupby('Bucket', as_index=True)\n",
    "            r, p = stats.spearmanr(d2.mean().X, d2.mean().Y)\n",
    "            n = n - 1 \n",
    "        except Exception as e:\n",
    "            n = n - 1\n",
    "\n",
    "    if len(d2) == 1:\n",
    "        n = force_bin         \n",
    "        bins = np.quantile(notmiss.X, np.linspace(0, 1, n))\n",
    "        if len(np.unique(bins)) == 2:\n",
    "            bins = np.insert(bins, 0, 1)\n",
    "            bins[1] = bins[1]-(bins[1]/2)\n",
    "        d1 = pd.DataFrame({\"X\": notmiss.X, \"Y\": notmiss.Y, \"Bucket\": pd.cut(notmiss.X, np.unique(bins),include_lowest=True)}) \n",
    "        d2 = d1.groupby('Bucket', as_index=True)\n",
    "    \n",
    "    d3 = pd.DataFrame({},index=[])\n",
    "    d3[\"MIN_VALUE\"] = d2.min().X\n",
    "    d3[\"MAX_VALUE\"] = d2.max().X\n",
    "    d3[\"COUNT\"] = d2.count().Y\n",
    "    d3[\"EVENT\"] = d2.sum().Y\n",
    "    d3[\"NONEVENT\"] = d2.count().Y - d2.sum().Y\n",
    "    d3=d3.reset_index(drop=True)\n",
    "    \n",
    "    if len(justmiss.index) > 0:\n",
    "        d4 = pd.DataFrame({'MIN_VALUE':np.nan},index=[0])\n",
    "        d4[\"MAX_VALUE\"] = np.nan\n",
    "        d4[\"COUNT\"] = justmiss.count().Y\n",
    "        d4[\"EVENT\"] = justmiss.sum().Y\n",
    "        d4[\"NONEVENT\"] = justmiss.count().Y - justmiss.sum().Y\n",
    "        d3 = d3.append(d4,ignore_index=True)\n",
    "    \n",
    "    d3[\"EVENT_RATE\"] = d3.EVENT/d3.COUNT\n",
    "    d3[\"NON_EVENT_RATE\"] = d3.NONEVENT/d3.COUNT\n",
    "    d3[\"DIST_EVENT\"] = d3.EVENT/d3.sum().EVENT\n",
    "    d3[\"DIST_NON_EVENT\"] = d3.NONEVENT/d3.sum().NONEVENT\n",
    "    d3[\"WOE\"] = np.log(d3.DIST_EVENT/d3.DIST_NON_EVENT)\n",
    "    d3[\"IV\"] = (d3.DIST_EVENT-d3.DIST_NON_EVENT)*np.log(d3.DIST_EVENT/d3.DIST_NON_EVENT)\n",
    "    d3[\"VAR_NAME\"] = \"VAR\"\n",
    "    d3 = d3[['VAR_NAME','MIN_VALUE', 'MAX_VALUE', 'COUNT', 'EVENT', 'EVENT_RATE', 'NONEVENT', 'NON_EVENT_RATE', 'DIST_EVENT','DIST_NON_EVENT','WOE', 'IV']]       \n",
    "    d3 = d3.replace([np.inf, -np.inf], 0)\n",
    "    d3.IV = d3.IV.sum()\n",
    "    \n",
    "    return(d3)\n",
    "\n",
    "def char_bin(Y, X):\n",
    "        \n",
    "    df1 = pd.DataFrame({\"X\": X, \"Y\": Y})\n",
    "    justmiss = df1[['X','Y']][df1.X.isnull()]\n",
    "    notmiss = df1[['X','Y']][df1.X.notnull()]    \n",
    "    df2 = notmiss.groupby('X',as_index=True)\n",
    "    \n",
    "    d3 = pd.DataFrame({},index=[])\n",
    "    d3[\"COUNT\"] = df2.count().Y\n",
    "    d3[\"MIN_VALUE\"] = df2.sum().Y.index\n",
    "    d3[\"MAX_VALUE\"] = d3[\"MIN_VALUE\"]\n",
    "    d3[\"EVENT\"] = df2.sum().Y\n",
    "    d3[\"NONEVENT\"] = df2.count().Y - df2.sum().Y\n",
    "    \n",
    "    if len(justmiss.index) > 0:\n",
    "        d4 = pd.DataFrame({'MIN_VALUE':np.nan},index=[0])\n",
    "        d4[\"MAX_VALUE\"] = np.nan\n",
    "        d4[\"COUNT\"] = justmiss.count().Y\n",
    "        d4[\"EVENT\"] = justmiss.sum().Y\n",
    "        d4[\"NONEVENT\"] = justmiss.count().Y - justmiss.sum().Y\n",
    "        d3 = d3.append(d4,ignore_index=True)\n",
    "    \n",
    "    d3[\"EVENT_RATE\"] = d3.EVENT/d3.COUNT\n",
    "    d3[\"NON_EVENT_RATE\"] = d3.NONEVENT/d3.COUNT\n",
    "    d3[\"DIST_EVENT\"] = d3.EVENT/d3.sum().EVENT\n",
    "    d3[\"DIST_NON_EVENT\"] = d3.NONEVENT/d3.sum().NONEVENT\n",
    "    d3[\"WOE\"] = np.log(d3.DIST_EVENT/d3.DIST_NON_EVENT)\n",
    "    d3[\"IV\"] = (d3.DIST_EVENT-d3.DIST_NON_EVENT)*np.log(d3.DIST_EVENT/d3.DIST_NON_EVENT)\n",
    "    d3[\"VAR_NAME\"] = \"VAR\"\n",
    "    d3 = d3[['VAR_NAME','MIN_VALUE', 'MAX_VALUE', 'COUNT', 'EVENT', 'EVENT_RATE', 'NONEVENT', 'NON_EVENT_RATE', 'DIST_EVENT','DIST_NON_EVENT','WOE', 'IV']]      \n",
    "    d3 = d3.replace([np.inf, -np.inf], 0)\n",
    "    d3.IV = d3.IV.sum()\n",
    "    d3 = d3.reset_index(drop=True)\n",
    "    \n",
    "    return(d3)\n",
    "\n",
    "def data_vars(df1, target):\n",
    "    \n",
    "    stack = traceback.extract_stack()\n",
    "    filename, lineno, function_name, code = stack[-2]\n",
    "    vars_name = re.compile(r'\\((.*?)\\).*$').search(code).groups()[0]\n",
    "    final = (re.findall(r\"[\\w']+\", vars_name))[-1]\n",
    "    \n",
    "    x = df1.dtypes.index\n",
    "    count = -1\n",
    "    \n",
    "    for i in x:\n",
    "        if i.upper() not in (final.upper()):\n",
    "            if np.issubdtype(df1[i], np.number) and len(Series.unique(df1[i])) > 2:\n",
    "                conv = mono_bin(target, df1[i])\n",
    "                conv[\"VAR_NAME\"] = i\n",
    "                count = count + 1\n",
    "            else:\n",
    "                conv = char_bin(target, df1[i])\n",
    "                conv[\"VAR_NAME\"] = i            \n",
    "                count = count + 1\n",
    "                \n",
    "            if count == 0:\n",
    "                iv_df = conv\n",
    "            else:\n",
    "                iv_df = iv_df.append(conv,ignore_index=True)\n",
    "    \n",
    "    iv = pd.DataFrame({'IV':iv_df.groupby('VAR_NAME').IV.max()})\n",
    "    iv = iv.reset_index()\n",
    "    return(iv_df,iv)"
   ]
  },
  {
   "cell_type": "code",
   "execution_count": 536,
   "id": "0cf15f58",
   "metadata": {},
   "outputs": [
    {
     "name": "stderr",
     "output_type": "stream",
     "text": [
      "D:\\IDE\\Anaconda\\lib\\site-packages\\pandas\\core\\arraylike.py:358: RuntimeWarning: invalid value encountered in log\n",
      "  result = getattr(ufunc, method)(*inputs, **kwargs)\n",
      "D:\\IDE\\Anaconda\\lib\\site-packages\\pandas\\core\\arraylike.py:358: RuntimeWarning: invalid value encountered in log\n",
      "  result = getattr(ufunc, method)(*inputs, **kwargs)\n",
      "D:\\IDE\\Anaconda\\lib\\site-packages\\pandas\\core\\arraylike.py:358: RuntimeWarning: invalid value encountered in log\n",
      "  result = getattr(ufunc, method)(*inputs, **kwargs)\n",
      "D:\\IDE\\Anaconda\\lib\\site-packages\\pandas\\core\\arraylike.py:358: RuntimeWarning: invalid value encountered in log\n",
      "  result = getattr(ufunc, method)(*inputs, **kwargs)\n",
      "D:\\IDE\\Anaconda\\lib\\site-packages\\pandas\\core\\arraylike.py:358: RuntimeWarning: invalid value encountered in log\n",
      "  result = getattr(ufunc, method)(*inputs, **kwargs)\n",
      "D:\\IDE\\Anaconda\\lib\\site-packages\\pandas\\core\\arraylike.py:358: RuntimeWarning: invalid value encountered in log\n",
      "  result = getattr(ufunc, method)(*inputs, **kwargs)\n",
      "D:\\IDE\\Anaconda\\lib\\site-packages\\pandas\\core\\arraylike.py:358: RuntimeWarning: invalid value encountered in log\n",
      "  result = getattr(ufunc, method)(*inputs, **kwargs)\n",
      "D:\\IDE\\Anaconda\\lib\\site-packages\\pandas\\core\\arraylike.py:358: RuntimeWarning: invalid value encountered in log\n",
      "  result = getattr(ufunc, method)(*inputs, **kwargs)\n",
      "D:\\IDE\\Anaconda\\lib\\site-packages\\pandas\\core\\arraylike.py:358: RuntimeWarning: invalid value encountered in log\n",
      "  result = getattr(ufunc, method)(*inputs, **kwargs)\n",
      "D:\\IDE\\Anaconda\\lib\\site-packages\\pandas\\core\\arraylike.py:358: RuntimeWarning: invalid value encountered in log\n",
      "  result = getattr(ufunc, method)(*inputs, **kwargs)\n",
      "D:\\IDE\\Anaconda\\lib\\site-packages\\pandas\\core\\arraylike.py:358: RuntimeWarning: invalid value encountered in log\n",
      "  result = getattr(ufunc, method)(*inputs, **kwargs)\n",
      "D:\\IDE\\Anaconda\\lib\\site-packages\\pandas\\core\\arraylike.py:358: RuntimeWarning: invalid value encountered in log\n",
      "  result = getattr(ufunc, method)(*inputs, **kwargs)\n",
      "D:\\IDE\\Anaconda\\lib\\site-packages\\pandas\\core\\arraylike.py:358: RuntimeWarning: invalid value encountered in log\n",
      "  result = getattr(ufunc, method)(*inputs, **kwargs)\n",
      "D:\\IDE\\Anaconda\\lib\\site-packages\\pandas\\core\\arraylike.py:358: RuntimeWarning: invalid value encountered in log\n",
      "  result = getattr(ufunc, method)(*inputs, **kwargs)\n",
      "D:\\IDE\\Anaconda\\lib\\site-packages\\pandas\\core\\arraylike.py:358: RuntimeWarning: invalid value encountered in log\n",
      "  result = getattr(ufunc, method)(*inputs, **kwargs)\n",
      "D:\\IDE\\Anaconda\\lib\\site-packages\\pandas\\core\\arraylike.py:358: RuntimeWarning: invalid value encountered in log\n",
      "  result = getattr(ufunc, method)(*inputs, **kwargs)\n",
      "D:\\IDE\\Anaconda\\lib\\site-packages\\pandas\\core\\arraylike.py:358: RuntimeWarning: invalid value encountered in log\n",
      "  result = getattr(ufunc, method)(*inputs, **kwargs)\n"
     ]
    },
    {
     "data": {
      "text/html": [
       "<div>\n",
       "<style scoped>\n",
       "    .dataframe tbody tr th:only-of-type {\n",
       "        vertical-align: middle;\n",
       "    }\n",
       "\n",
       "    .dataframe tbody tr th {\n",
       "        vertical-align: top;\n",
       "    }\n",
       "\n",
       "    .dataframe thead th {\n",
       "        text-align: right;\n",
       "    }\n",
       "</style>\n",
       "<table border=\"1\" class=\"dataframe\">\n",
       "  <thead>\n",
       "    <tr style=\"text-align: right;\">\n",
       "      <th></th>\n",
       "      <th>VAR_NAME</th>\n",
       "      <th>IV</th>\n",
       "    </tr>\n",
       "  </thead>\n",
       "  <tbody>\n",
       "    <tr>\n",
       "      <th>4</th>\n",
       "      <td>Q1</td>\n",
       "      <td>58.350017</td>\n",
       "    </tr>\n",
       "    <tr>\n",
       "      <th>1</th>\n",
       "      <td>E2</td>\n",
       "      <td>3.147362</td>\n",
       "    </tr>\n",
       "    <tr>\n",
       "      <th>11</th>\n",
       "      <td>p2</td>\n",
       "      <td>3.137537</td>\n",
       "    </tr>\n",
       "    <tr>\n",
       "      <th>15</th>\n",
       "      <td>pt2</td>\n",
       "      <td>3.030887</td>\n",
       "    </tr>\n",
       "    <tr>\n",
       "      <th>5</th>\n",
       "      <td>Run</td>\n",
       "      <td>2.184296</td>\n",
       "    </tr>\n",
       "    <tr>\n",
       "      <th>14</th>\n",
       "      <td>pt1</td>\n",
       "      <td>1.789493</td>\n",
       "    </tr>\n",
       "    <tr>\n",
       "      <th>12</th>\n",
       "      <td>phi1</td>\n",
       "      <td>1.432996</td>\n",
       "    </tr>\n",
       "    <tr>\n",
       "      <th>10</th>\n",
       "      <td>p1</td>\n",
       "      <td>1.075601</td>\n",
       "    </tr>\n",
       "    <tr>\n",
       "      <th>0</th>\n",
       "      <td>E1</td>\n",
       "      <td>1.075601</td>\n",
       "    </tr>\n",
       "    <tr>\n",
       "      <th>16</th>\n",
       "      <td>px1</td>\n",
       "      <td>1.031184</td>\n",
       "    </tr>\n",
       "    <tr>\n",
       "      <th>24</th>\n",
       "      <td>v1</td>\n",
       "      <td>1.000178</td>\n",
       "    </tr>\n",
       "    <tr>\n",
       "      <th>20</th>\n",
       "      <td>pz1</td>\n",
       "      <td>0.998143</td>\n",
       "    </tr>\n",
       "    <tr>\n",
       "      <th>17</th>\n",
       "      <td>px2</td>\n",
       "      <td>0.961352</td>\n",
       "    </tr>\n",
       "    <tr>\n",
       "      <th>3</th>\n",
       "      <td>M</td>\n",
       "      <td>0.939663</td>\n",
       "    </tr>\n",
       "    <tr>\n",
       "      <th>21</th>\n",
       "      <td>pz2</td>\n",
       "      <td>0.859567</td>\n",
       "    </tr>\n",
       "    <tr>\n",
       "      <th>18</th>\n",
       "      <td>py1</td>\n",
       "      <td>0.851857</td>\n",
       "    </tr>\n",
       "    <tr>\n",
       "      <th>7</th>\n",
       "      <td>eta2</td>\n",
       "      <td>0.777596</td>\n",
       "    </tr>\n",
       "    <tr>\n",
       "      <th>23</th>\n",
       "      <td>teta_2</td>\n",
       "      <td>0.777596</td>\n",
       "    </tr>\n",
       "    <tr>\n",
       "      <th>9</th>\n",
       "      <td>m2</td>\n",
       "      <td>0.701960</td>\n",
       "    </tr>\n",
       "    <tr>\n",
       "      <th>2</th>\n",
       "      <td>Event</td>\n",
       "      <td>0.627828</td>\n",
       "    </tr>\n",
       "    <tr>\n",
       "      <th>8</th>\n",
       "      <td>m1</td>\n",
       "      <td>0.623865</td>\n",
       "    </tr>\n",
       "    <tr>\n",
       "      <th>27</th>\n",
       "      <td>y2</td>\n",
       "      <td>0.458184</td>\n",
       "    </tr>\n",
       "    <tr>\n",
       "      <th>25</th>\n",
       "      <td>v2</td>\n",
       "      <td>0.291340</td>\n",
       "    </tr>\n",
       "    <tr>\n",
       "      <th>22</th>\n",
       "      <td>teta_1</td>\n",
       "      <td>0.217831</td>\n",
       "    </tr>\n",
       "    <tr>\n",
       "      <th>6</th>\n",
       "      <td>eta1</td>\n",
       "      <td>0.217831</td>\n",
       "    </tr>\n",
       "    <tr>\n",
       "      <th>26</th>\n",
       "      <td>y1</td>\n",
       "      <td>0.179077</td>\n",
       "    </tr>\n",
       "    <tr>\n",
       "      <th>13</th>\n",
       "      <td>phi2</td>\n",
       "      <td>0.005169</td>\n",
       "    </tr>\n",
       "    <tr>\n",
       "      <th>19</th>\n",
       "      <td>py2</td>\n",
       "      <td>0.001686</td>\n",
       "    </tr>\n",
       "  </tbody>\n",
       "</table>\n",
       "</div>"
      ],
      "text/plain": [
       "   VAR_NAME         IV\n",
       "4        Q1  58.350017\n",
       "1        E2   3.147362\n",
       "11       p2   3.137537\n",
       "15      pt2   3.030887\n",
       "5       Run   2.184296\n",
       "14      pt1   1.789493\n",
       "12     phi1   1.432996\n",
       "10       p1   1.075601\n",
       "0        E1   1.075601\n",
       "16      px1   1.031184\n",
       "24       v1   1.000178\n",
       "20      pz1   0.998143\n",
       "17      px2   0.961352\n",
       "3         M   0.939663\n",
       "21      pz2   0.859567\n",
       "18      py1   0.851857\n",
       "7      eta2   0.777596\n",
       "23   teta_2   0.777596\n",
       "9        m2   0.701960\n",
       "2     Event   0.627828\n",
       "8        m1   0.623865\n",
       "27       y2   0.458184\n",
       "25       v2   0.291340\n",
       "22   teta_1   0.217831\n",
       "6      eta1   0.217831\n",
       "26       y1   0.179077\n",
       "13     phi2   0.005169\n",
       "19      py2   0.001686"
      ]
     },
     "execution_count": 536,
     "metadata": {},
     "output_type": "execute_result"
    }
   ],
   "source": [
    "final_iv, IV = data_vars(for_model, for_model[\"Q2\"])\n",
    "pd.set_option('display.max_rows', None)\n",
    "IV.sort_values(by='IV',ascending=False)"
   ]
  },
  {
   "cell_type": "markdown",
   "id": "a3347ef3",
   "metadata": {},
   "source": [
    "Делим датасет на тестовую и тренировочную выборки"
   ]
  },
  {
   "cell_type": "code",
   "execution_count": 537,
   "id": "5f88567a",
   "metadata": {},
   "outputs": [],
   "source": [
    "for_model.loc[(for_model[\"Q2\"] == -1), (\"Q2\")] = 0\n",
    "y = for_model['Q2']\n",
    "X = for_model.drop(columns = [\"Q2\", \"Run\", \"Event\"])\n",
    "\n",
    "X_train, X_test, y_train, y_test = train_test_split(X, y, test_size=0.2, random_state=42)"
   ]
  },
  {
   "cell_type": "markdown",
   "id": "972afa7a",
   "metadata": {},
   "source": [
    "В качестве классификатора выбрал случайный лес"
   ]
  },
  {
   "cell_type": "code",
   "execution_count": 538,
   "id": "87136c9a",
   "metadata": {},
   "outputs": [],
   "source": [
    "# model = LogisticRegression(solver=\"newton-cg\")\n",
    "# model = RandomForestClassifier(n_estimators=500, random_state=42) # - best try\n",
    "# model = xgb.XGBClassifier(n_estimators=2000)\n",
    "model = DecisionTreeClassifier(random_state=42, max_depth=7)"
   ]
  },
  {
   "cell_type": "markdown",
   "id": "a8edfe41",
   "metadata": {},
   "source": [
    "Кросс-валидация"
   ]
  },
  {
   "cell_type": "code",
   "execution_count": 539,
   "id": "3cbae3f5",
   "metadata": {},
   "outputs": [
    {
     "data": {
      "text/plain": [
       "0.5413752998022473"
      ]
     },
     "execution_count": 539,
     "metadata": {},
     "output_type": "execute_result"
    }
   ],
   "source": [
    "scores = cross_val_score(model, X, y, cv=10, scoring=\"f1\")\n",
    "np.mean(scores)"
   ]
  },
  {
   "cell_type": "markdown",
   "id": "f5f7a51e",
   "metadata": {},
   "source": [
    "обучение модели"
   ]
  },
  {
   "cell_type": "code",
   "execution_count": 540,
   "id": "e21602f3",
   "metadata": {},
   "outputs": [
    {
     "data": {
      "text/plain": [
       "DecisionTreeClassifier(max_depth=7, random_state=42)"
      ]
     },
     "execution_count": 540,
     "metadata": {},
     "output_type": "execute_result"
    }
   ],
   "source": [
    "# model.fit(X, y)\n",
    "model.fit(X_train, y_train)"
   ]
  },
  {
   "cell_type": "markdown",
   "id": "a7c08443",
   "metadata": {},
   "source": [
    "Проверка важности признаков "
   ]
  },
  {
   "cell_type": "code",
   "execution_count": 541,
   "id": "dd88d29d",
   "metadata": {},
   "outputs": [
    {
     "data": {
      "text/html": [
       "\n",
       "    <style>\n",
       "    table.eli5-weights tr:hover {\n",
       "        filter: brightness(85%);\n",
       "    }\n",
       "</style>\n",
       "\n",
       "\n",
       "\n",
       "    \n",
       "\n",
       "    \n",
       "\n",
       "    \n",
       "\n",
       "    \n",
       "\n",
       "    \n",
       "\n",
       "    \n",
       "\n",
       "\n",
       "    \n",
       "\n",
       "    \n",
       "\n",
       "    \n",
       "\n",
       "    \n",
       "\n",
       "    \n",
       "\n",
       "    \n",
       "\n",
       "\n",
       "    \n",
       "\n",
       "    \n",
       "\n",
       "    \n",
       "\n",
       "    \n",
       "\n",
       "    \n",
       "        <table class=\"eli5-weights eli5-feature-importances\" style=\"border-collapse: collapse; border: none; margin-top: 0em; table-layout: auto;\">\n",
       "    <thead>\n",
       "    <tr style=\"border: none;\">\n",
       "        <th style=\"padding: 0 1em 0 0.5em; text-align: right; border: none;\">Weight</th>\n",
       "        <th style=\"padding: 0 0.5em 0 0.5em; text-align: left; border: none;\">Feature</th>\n",
       "    </tr>\n",
       "    </thead>\n",
       "    <tbody>\n",
       "    \n",
       "        <tr style=\"background-color: hsl(120, 100.00%, 80.00%); border: none;\">\n",
       "            <td style=\"padding: 0 1em 0 0.5em; text-align: right; border: none;\">\n",
       "                0.0738\n",
       "                \n",
       "                    &plusmn; 0.0046\n",
       "                \n",
       "            </td>\n",
       "            <td style=\"padding: 0 0.5em 0 0.5em; text-align: left; border: none;\">\n",
       "                Q1\n",
       "            </td>\n",
       "        </tr>\n",
       "    \n",
       "        <tr style=\"background-color: hsl(120, 100.00%, 92.03%); border: none;\">\n",
       "            <td style=\"padding: 0 1em 0 0.5em; text-align: right; border: none;\">\n",
       "                0.0198\n",
       "                \n",
       "                    &plusmn; 0.0039\n",
       "                \n",
       "            </td>\n",
       "            <td style=\"padding: 0 0.5em 0 0.5em; text-align: left; border: none;\">\n",
       "                pt2\n",
       "            </td>\n",
       "        </tr>\n",
       "    \n",
       "        <tr style=\"background-color: hsl(120, 100.00%, 94.28%); border: none;\">\n",
       "            <td style=\"padding: 0 1em 0 0.5em; text-align: right; border: none;\">\n",
       "                0.0123\n",
       "                \n",
       "                    &plusmn; 0.0027\n",
       "                \n",
       "            </td>\n",
       "            <td style=\"padding: 0 0.5em 0 0.5em; text-align: left; border: none;\">\n",
       "                pt1\n",
       "            </td>\n",
       "        </tr>\n",
       "    \n",
       "        <tr style=\"background-color: hsl(120, 100.00%, 94.35%); border: none;\">\n",
       "            <td style=\"padding: 0 1em 0 0.5em; text-align: right; border: none;\">\n",
       "                0.0121\n",
       "                \n",
       "                    &plusmn; 0.0051\n",
       "                \n",
       "            </td>\n",
       "            <td style=\"padding: 0 0.5em 0 0.5em; text-align: left; border: none;\">\n",
       "                eta2\n",
       "            </td>\n",
       "        </tr>\n",
       "    \n",
       "        <tr style=\"background-color: hsl(120, 100.00%, 95.01%); border: none;\">\n",
       "            <td style=\"padding: 0 1em 0 0.5em; text-align: right; border: none;\">\n",
       "                0.0101\n",
       "                \n",
       "                    &plusmn; 0.0008\n",
       "                \n",
       "            </td>\n",
       "            <td style=\"padding: 0 0.5em 0 0.5em; text-align: left; border: none;\">\n",
       "                M\n",
       "            </td>\n",
       "        </tr>\n",
       "    \n",
       "        <tr style=\"background-color: hsl(120, 100.00%, 96.47%); border: none;\">\n",
       "            <td style=\"padding: 0 1em 0 0.5em; text-align: right; border: none;\">\n",
       "                0.0062\n",
       "                \n",
       "                    &plusmn; 0.0015\n",
       "                \n",
       "            </td>\n",
       "            <td style=\"padding: 0 0.5em 0 0.5em; text-align: left; border: none;\">\n",
       "                p2\n",
       "            </td>\n",
       "        </tr>\n",
       "    \n",
       "        <tr style=\"background-color: hsl(120, 100.00%, 98.43%); border: none;\">\n",
       "            <td style=\"padding: 0 1em 0 0.5em; text-align: right; border: none;\">\n",
       "                0.0019\n",
       "                \n",
       "                    &plusmn; 0.0019\n",
       "                \n",
       "            </td>\n",
       "            <td style=\"padding: 0 0.5em 0 0.5em; text-align: left; border: none;\">\n",
       "                p1\n",
       "            </td>\n",
       "        </tr>\n",
       "    \n",
       "        <tr style=\"background-color: hsl(120, 100.00%, 99.28%); border: none;\">\n",
       "            <td style=\"padding: 0 1em 0 0.5em; text-align: right; border: none;\">\n",
       "                0.0006\n",
       "                \n",
       "                    &plusmn; 0.0002\n",
       "                \n",
       "            </td>\n",
       "            <td style=\"padding: 0 0.5em 0 0.5em; text-align: left; border: none;\">\n",
       "                E1\n",
       "            </td>\n",
       "        </tr>\n",
       "    \n",
       "        <tr style=\"background-color: hsl(120, 100.00%, 99.50%); border: none;\">\n",
       "            <td style=\"padding: 0 1em 0 0.5em; text-align: right; border: none;\">\n",
       "                0.0004\n",
       "                \n",
       "                    &plusmn; 0.0005\n",
       "                \n",
       "            </td>\n",
       "            <td style=\"padding: 0 0.5em 0 0.5em; text-align: left; border: none;\">\n",
       "                eta1\n",
       "            </td>\n",
       "        </tr>\n",
       "    \n",
       "        <tr style=\"background-color: hsl(120, 100.00%, 99.52%); border: none;\">\n",
       "            <td style=\"padding: 0 1em 0 0.5em; text-align: right; border: none;\">\n",
       "                0.0004\n",
       "                \n",
       "                    &plusmn; 0.0002\n",
       "                \n",
       "            </td>\n",
       "            <td style=\"padding: 0 0.5em 0 0.5em; text-align: left; border: none;\">\n",
       "                py1\n",
       "            </td>\n",
       "        </tr>\n",
       "    \n",
       "        <tr style=\"background-color: hsl(120, 100.00%, 99.57%); border: none;\">\n",
       "            <td style=\"padding: 0 1em 0 0.5em; text-align: right; border: none;\">\n",
       "                0.0003\n",
       "                \n",
       "                    &plusmn; 0.0008\n",
       "                \n",
       "            </td>\n",
       "            <td style=\"padding: 0 0.5em 0 0.5em; text-align: left; border: none;\">\n",
       "                pz2\n",
       "            </td>\n",
       "        </tr>\n",
       "    \n",
       "        <tr style=\"background-color: hsl(120, 100.00%, 99.62%); border: none;\">\n",
       "            <td style=\"padding: 0 1em 0 0.5em; text-align: right; border: none;\">\n",
       "                0.0003\n",
       "                \n",
       "                    &plusmn; 0.0003\n",
       "                \n",
       "            </td>\n",
       "            <td style=\"padding: 0 0.5em 0 0.5em; text-align: left; border: none;\">\n",
       "                teta_2\n",
       "            </td>\n",
       "        </tr>\n",
       "    \n",
       "        <tr style=\"background-color: hsl(120, 100.00%, 99.71%); border: none;\">\n",
       "            <td style=\"padding: 0 1em 0 0.5em; text-align: right; border: none;\">\n",
       "                0.0002\n",
       "                \n",
       "                    &plusmn; 0.0004\n",
       "                \n",
       "            </td>\n",
       "            <td style=\"padding: 0 0.5em 0 0.5em; text-align: left; border: none;\">\n",
       "                phi1\n",
       "            </td>\n",
       "        </tr>\n",
       "    \n",
       "        <tr style=\"background-color: hsl(120, 100.00%, 99.71%); border: none;\">\n",
       "            <td style=\"padding: 0 1em 0 0.5em; text-align: right; border: none;\">\n",
       "                0.0002\n",
       "                \n",
       "                    &plusmn; 0.0002\n",
       "                \n",
       "            </td>\n",
       "            <td style=\"padding: 0 0.5em 0 0.5em; text-align: left; border: none;\">\n",
       "                y2\n",
       "            </td>\n",
       "        </tr>\n",
       "    \n",
       "        <tr style=\"background-color: hsl(120, 100.00%, 99.78%); border: none;\">\n",
       "            <td style=\"padding: 0 1em 0 0.5em; text-align: right; border: none;\">\n",
       "                0.0001\n",
       "                \n",
       "                    &plusmn; 0.0005\n",
       "                \n",
       "            </td>\n",
       "            <td style=\"padding: 0 0.5em 0 0.5em; text-align: left; border: none;\">\n",
       "                py2\n",
       "            </td>\n",
       "        </tr>\n",
       "    \n",
       "        <tr style=\"background-color: hsl(120, 100.00%, 99.85%); border: none;\">\n",
       "            <td style=\"padding: 0 1em 0 0.5em; text-align: right; border: none;\">\n",
       "                0.0001\n",
       "                \n",
       "                    &plusmn; 0.0001\n",
       "                \n",
       "            </td>\n",
       "            <td style=\"padding: 0 0.5em 0 0.5em; text-align: left; border: none;\">\n",
       "                v2\n",
       "            </td>\n",
       "        </tr>\n",
       "    \n",
       "        <tr style=\"background-color: hsl(120, 100.00%, 99.86%); border: none;\">\n",
       "            <td style=\"padding: 0 1em 0 0.5em; text-align: right; border: none;\">\n",
       "                0.0001\n",
       "                \n",
       "                    &plusmn; 0.0001\n",
       "                \n",
       "            </td>\n",
       "            <td style=\"padding: 0 0.5em 0 0.5em; text-align: left; border: none;\">\n",
       "                y1\n",
       "            </td>\n",
       "        </tr>\n",
       "    \n",
       "        <tr style=\"background-color: hsl(120, 100.00%, 99.88%); border: none;\">\n",
       "            <td style=\"padding: 0 1em 0 0.5em; text-align: right; border: none;\">\n",
       "                0.0000\n",
       "                \n",
       "                    &plusmn; 0.0001\n",
       "                \n",
       "            </td>\n",
       "            <td style=\"padding: 0 0.5em 0 0.5em; text-align: left; border: none;\">\n",
       "                px2\n",
       "            </td>\n",
       "        </tr>\n",
       "    \n",
       "        <tr style=\"background-color: hsl(120, 100.00%, 99.93%); border: none;\">\n",
       "            <td style=\"padding: 0 1em 0 0.5em; text-align: right; border: none;\">\n",
       "                0.0000\n",
       "                \n",
       "                    &plusmn; 0.0001\n",
       "                \n",
       "            </td>\n",
       "            <td style=\"padding: 0 0.5em 0 0.5em; text-align: left; border: none;\">\n",
       "                v1\n",
       "            </td>\n",
       "        </tr>\n",
       "    \n",
       "        <tr style=\"background-color: hsl(0, 100.00%, 100.00%); border: none;\">\n",
       "            <td style=\"padding: 0 1em 0 0.5em; text-align: right; border: none;\">\n",
       "                0\n",
       "                \n",
       "                    &plusmn; 0.0000\n",
       "                \n",
       "            </td>\n",
       "            <td style=\"padding: 0 0.5em 0 0.5em; text-align: left; border: none;\">\n",
       "                m1\n",
       "            </td>\n",
       "        </tr>\n",
       "    \n",
       "    \n",
       "        \n",
       "            <tr style=\"background-color: hsl(0, 100.00%, 100.00%); border: none;\">\n",
       "                <td colspan=\"2\" style=\"padding: 0 0.5em 0 0.5em; text-align: center; border: none; white-space: nowrap;\">\n",
       "                    <i>&hellip; 6 more &hellip;</i>\n",
       "                </td>\n",
       "            </tr>\n",
       "        \n",
       "    \n",
       "    </tbody>\n",
       "</table>\n",
       "    \n",
       "\n",
       "    \n",
       "\n",
       "\n",
       "    \n",
       "\n",
       "    \n",
       "\n",
       "    \n",
       "\n",
       "    \n",
       "\n",
       "    \n",
       "\n",
       "    \n",
       "\n",
       "\n",
       "\n"
      ],
      "text/plain": [
       "<IPython.core.display.HTML object>"
      ]
     },
     "execution_count": 541,
     "metadata": {},
     "output_type": "execute_result"
    }
   ],
   "source": [
    "import eli5\n",
    "from eli5.sklearn import PermutationImportance\n",
    "perm = PermutationImportance(model, random_state=42).fit(X_test, y_test)\n",
    "eli5.show_weights(perm, feature_names=X_test.columns.tolist())"
   ]
  },
  {
   "cell_type": "code",
   "execution_count": 542,
   "id": "be4c6fbd",
   "metadata": {},
   "outputs": [],
   "source": [
    "labels = model.predict(X_test)"
   ]
  },
  {
   "cell_type": "code",
   "execution_count": 543,
   "id": "6428c7fb",
   "metadata": {},
   "outputs": [],
   "source": [
    "acc_sc = accuracy_score(y_test, labels)"
   ]
  },
  {
   "cell_type": "code",
   "execution_count": 544,
   "id": "eb5d1b80",
   "metadata": {},
   "outputs": [],
   "source": [
    "f1_sc = f1_score(y_test, labels, average=\"weighted\")"
   ]
  },
  {
   "cell_type": "code",
   "execution_count": 545,
   "id": "a369b302",
   "metadata": {},
   "outputs": [
    {
     "data": {
      "text/plain": [
       "0.5808475329739119"
      ]
     },
     "execution_count": 545,
     "metadata": {},
     "output_type": "execute_result"
    }
   ],
   "source": [
    "f1_sc"
   ]
  },
  {
   "cell_type": "markdown",
   "id": "95489392",
   "metadata": {},
   "source": [
    "Предсказания для target"
   ]
  },
  {
   "cell_type": "code",
   "execution_count": 546,
   "id": "92f54b9c",
   "metadata": {},
   "outputs": [],
   "source": [
    "X_main = target.drop(columns=[\"Run\", \"Event\"])"
   ]
  },
  {
   "cell_type": "code",
   "execution_count": 547,
   "id": "cba3d0ec",
   "metadata": {},
   "outputs": [],
   "source": [
    "main_labels = model.predict(X_main)"
   ]
  },
  {
   "cell_type": "code",
   "execution_count": 548,
   "id": "c796badc",
   "metadata": {},
   "outputs": [],
   "source": [
    "for i in range(len(main_labels)):\n",
    "    if main_labels[i] == 0:\n",
    "        main_labels[i] = -1"
   ]
  },
  {
   "cell_type": "code",
   "execution_count": 549,
   "id": "831b1795",
   "metadata": {},
   "outputs": [],
   "source": [
    "main_labels = pd.Series(main_labels)"
   ]
  },
  {
   "cell_type": "code",
   "execution_count": 550,
   "id": "879323da",
   "metadata": {},
   "outputs": [
    {
     "data": {
      "text/plain": [
       "0    1\n",
       "1    1\n",
       "2    1\n",
       "3   -1\n",
       "4   -1\n",
       "dtype: int64"
      ]
     },
     "execution_count": 550,
     "metadata": {},
     "output_type": "execute_result"
    }
   ],
   "source": [
    "main_labels.head()"
   ]
  },
  {
   "cell_type": "code",
   "execution_count": 551,
   "id": "fb988c5b",
   "metadata": {},
   "outputs": [
    {
     "data": {
      "text/plain": [
       " 1    8724\n",
       "-1    5874\n",
       "dtype: int64"
      ]
     },
     "execution_count": 551,
     "metadata": {},
     "output_type": "execute_result"
    }
   ],
   "source": [
    "main_labels.value_counts()"
   ]
  },
  {
   "cell_type": "code",
   "execution_count": 552,
   "id": "6a9c030d",
   "metadata": {},
   "outputs": [],
   "source": [
    "data = {\"Event\": target[\"Event\"], \"Q2\": main_labels}\n",
    "main_labels = pd.DataFrame(data)\n",
    "main_labels.to_csv(\"Labels.csv\", index=False)"
   ]
  },
  {
   "cell_type": "code",
   "execution_count": null,
   "id": "3ced7c49",
   "metadata": {},
   "outputs": [],
   "source": []
  },
  {
   "cell_type": "code",
   "execution_count": null,
   "id": "fa9e8b8b",
   "metadata": {},
   "outputs": [],
   "source": []
  },
  {
   "cell_type": "code",
   "execution_count": null,
   "id": "97f0af40",
   "metadata": {},
   "outputs": [],
   "source": []
  },
  {
   "cell_type": "code",
   "execution_count": null,
   "id": "87862227",
   "metadata": {},
   "outputs": [],
   "source": []
  }
 ],
 "metadata": {
  "kernelspec": {
   "display_name": "Python 3",
   "language": "python",
   "name": "python3"
  },
  "language_info": {
   "codemirror_mode": {
    "name": "ipython",
    "version": 3
   },
   "file_extension": ".py",
   "mimetype": "text/x-python",
   "name": "python",
   "nbconvert_exporter": "python",
   "pygments_lexer": "ipython3",
   "version": "3.8.8"
  }
 },
 "nbformat": 4,
 "nbformat_minor": 5
}
